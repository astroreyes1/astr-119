{
 "cells": [
  {
   "cell_type": "markdown",
   "id": "shaped-platinum",
   "metadata": {},
   "source": [
    "## We will be creating a program where we plot multiple functions on the same plot"
   ]
  },
  {
   "cell_type": "markdown",
   "id": "hybrid-chess",
   "metadata": {},
   "source": [
    "We import numpy and matplotlib as usual:"
   ]
  },
  {
   "cell_type": "code",
   "execution_count": null,
   "id": "turkish-geometry",
   "metadata": {},
   "outputs": [],
   "source": [
    "%matplotlib inline\n",
    "import numpy as np\n",
    "import matplotlib.pyplot as plt"
   ]
  },
  {
   "cell_type": "markdown",
   "id": "adequate-dinner",
   "metadata": {},
   "source": [
    "We define an array of angles for 1000 values:"
   ]
  },
  {
   "cell_type": "code",
   "execution_count": null,
   "id": "sitting-update",
   "metadata": {},
   "outputs": [],
   "source": [
    "x = np.linspace(0,2*np.pi,1000)\n",
    "\n",
    "a = 5.5*np.cos(2*x) + 5.5\n",
    "b = 0.02*np.exp(x)\n",
    "c = 0.25*np.square(x) + 0.1*np.sin(10*x)"
   ]
  },
  {
   "cell_type": "markdown",
   "id": "cooked-export",
   "metadata": {},
   "source": [
    "Now, we will plot each function into a single plot"
   ]
  },
  {
   "cell_type": "code",
   "execution_count": null,
   "id": "secret-scanning",
   "metadata": {},
   "outputs": [],
   "source": [
    "plt.plot(x, a, label = r'$y(x) = 5.5cos(2x) + 5.5$')      #plot a, with it's label\n",
    "plt.plot(x, b, label = r'$y(x) = 0.02exp(x)$')            #plot b, with it's label\n",
    "plt.plot(x, c, label = r'$y(x) = 0.25x^2 + 0.1sin(10x)$') #plot c, with it's label\n",
    "\n",
    "#axis limits\n",
    "plt.xlim([0,2*np.pi])\n",
    "plt.ylim([-1,10])\n",
    "\n",
    "#axis labels\n",
    "plt.xlabel('Time in ASTR 119')\n",
    "plt.ylabel('Measure of Awesomeness')\n",
    "\n",
    "#make a legend with a 95% transperancy level\n",
    "plt.legend(loc=1,framealpha=0.95)\n",
    "\n",
    "plt.show()"
   ]
  }
 ],
 "metadata": {
  "kernelspec": {
   "display_name": "Python 3",
   "language": "python",
   "name": "python3"
  },
  "language_info": {
   "codemirror_mode": {
    "name": "ipython",
    "version": 3
   },
   "file_extension": ".py",
   "mimetype": "text/x-python",
   "name": "python",
   "nbconvert_exporter": "python",
   "pygments_lexer": "ipython3",
   "version": "3.8.5"
  }
 },
 "nbformat": 4,
 "nbformat_minor": 5
}
